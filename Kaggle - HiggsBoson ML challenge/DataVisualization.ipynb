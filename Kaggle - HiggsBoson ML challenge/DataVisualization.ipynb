{
 "cells": [
  {
   "cell_type": "code",
   "execution_count": 127,
   "metadata": {},
   "outputs": [
    {
     "name": "stdout",
     "output_type": "stream",
     "text": [
      "Reading Training Data .. \n",
      "Summary of Training Data\n"
     ]
    },
    {
     "data": {
      "text/html": [
       "<div>\n",
       "<style>\n",
       "    .dataframe thead tr:only-child th {\n",
       "        text-align: right;\n",
       "    }\n",
       "\n",
       "    .dataframe thead th {\n",
       "        text-align: left;\n",
       "    }\n",
       "\n",
       "    .dataframe tbody tr th {\n",
       "        vertical-align: top;\n",
       "    }\n",
       "</style>\n",
       "<table border=\"1\" class=\"dataframe\">\n",
       "  <thead>\n",
       "    <tr style=\"text-align: right;\">\n",
       "      <th></th>\n",
       "      <th>EventId</th>\n",
       "      <th>DER_mass_MMC</th>\n",
       "      <th>DER_mass_transverse_met_lep</th>\n",
       "      <th>DER_mass_vis</th>\n",
       "      <th>DER_pt_h</th>\n",
       "      <th>DER_deltaeta_jet_jet</th>\n",
       "      <th>DER_mass_jet_jet</th>\n",
       "      <th>DER_prodeta_jet_jet</th>\n",
       "      <th>DER_deltar_tau_lep</th>\n",
       "      <th>DER_pt_tot</th>\n",
       "      <th>...</th>\n",
       "      <th>PRI_met_sumet</th>\n",
       "      <th>PRI_jet_num</th>\n",
       "      <th>PRI_jet_leading_pt</th>\n",
       "      <th>PRI_jet_leading_eta</th>\n",
       "      <th>PRI_jet_leading_phi</th>\n",
       "      <th>PRI_jet_subleading_pt</th>\n",
       "      <th>PRI_jet_subleading_eta</th>\n",
       "      <th>PRI_jet_subleading_phi</th>\n",
       "      <th>PRI_jet_all_pt</th>\n",
       "      <th>Weight</th>\n",
       "    </tr>\n",
       "  </thead>\n",
       "  <tbody>\n",
       "    <tr>\n",
       "      <th>count</th>\n",
       "      <td>250000.000000</td>\n",
       "      <td>250000.000000</td>\n",
       "      <td>250000.000000</td>\n",
       "      <td>250000.000000</td>\n",
       "      <td>250000.000000</td>\n",
       "      <td>250000.000000</td>\n",
       "      <td>250000.000000</td>\n",
       "      <td>250000.000000</td>\n",
       "      <td>250000.000000</td>\n",
       "      <td>250000.000000</td>\n",
       "      <td>...</td>\n",
       "      <td>250000.000000</td>\n",
       "      <td>250000.000000</td>\n",
       "      <td>250000.000000</td>\n",
       "      <td>250000.000000</td>\n",
       "      <td>250000.000000</td>\n",
       "      <td>250000.000000</td>\n",
       "      <td>250000.000000</td>\n",
       "      <td>250000.000000</td>\n",
       "      <td>250000.000000</td>\n",
       "      <td>250000.000000</td>\n",
       "    </tr>\n",
       "    <tr>\n",
       "      <th>mean</th>\n",
       "      <td>224999.500000</td>\n",
       "      <td>-49.023079</td>\n",
       "      <td>49.239819</td>\n",
       "      <td>81.181982</td>\n",
       "      <td>57.895962</td>\n",
       "      <td>-708.420675</td>\n",
       "      <td>-601.237051</td>\n",
       "      <td>-709.356603</td>\n",
       "      <td>2.373100</td>\n",
       "      <td>18.917332</td>\n",
       "      <td>...</td>\n",
       "      <td>209.797178</td>\n",
       "      <td>0.979176</td>\n",
       "      <td>-348.329567</td>\n",
       "      <td>-399.254314</td>\n",
       "      <td>-399.259788</td>\n",
       "      <td>-692.381204</td>\n",
       "      <td>-709.121609</td>\n",
       "      <td>-709.118631</td>\n",
       "      <td>73.064591</td>\n",
       "      <td>1.646767</td>\n",
       "    </tr>\n",
       "    <tr>\n",
       "      <th>std</th>\n",
       "      <td>72168.927986</td>\n",
       "      <td>406.345647</td>\n",
       "      <td>35.344886</td>\n",
       "      <td>40.828691</td>\n",
       "      <td>63.655682</td>\n",
       "      <td>454.480565</td>\n",
       "      <td>657.972302</td>\n",
       "      <td>453.019877</td>\n",
       "      <td>0.782911</td>\n",
       "      <td>22.273494</td>\n",
       "      <td>...</td>\n",
       "      <td>126.499506</td>\n",
       "      <td>0.977426</td>\n",
       "      <td>532.962789</td>\n",
       "      <td>489.338286</td>\n",
       "      <td>489.333883</td>\n",
       "      <td>479.875496</td>\n",
       "      <td>453.384624</td>\n",
       "      <td>453.389017</td>\n",
       "      <td>98.015662</td>\n",
       "      <td>1.875103</td>\n",
       "    </tr>\n",
       "    <tr>\n",
       "      <th>min</th>\n",
       "      <td>100000.000000</td>\n",
       "      <td>-999.000000</td>\n",
       "      <td>0.000000</td>\n",
       "      <td>6.329000</td>\n",
       "      <td>0.000000</td>\n",
       "      <td>-999.000000</td>\n",
       "      <td>-999.000000</td>\n",
       "      <td>-999.000000</td>\n",
       "      <td>0.208000</td>\n",
       "      <td>0.000000</td>\n",
       "      <td>...</td>\n",
       "      <td>13.678000</td>\n",
       "      <td>0.000000</td>\n",
       "      <td>-999.000000</td>\n",
       "      <td>-999.000000</td>\n",
       "      <td>-999.000000</td>\n",
       "      <td>-999.000000</td>\n",
       "      <td>-999.000000</td>\n",
       "      <td>-999.000000</td>\n",
       "      <td>0.000000</td>\n",
       "      <td>0.001502</td>\n",
       "    </tr>\n",
       "    <tr>\n",
       "      <th>25%</th>\n",
       "      <td>162499.750000</td>\n",
       "      <td>78.100750</td>\n",
       "      <td>19.241000</td>\n",
       "      <td>59.388750</td>\n",
       "      <td>14.068750</td>\n",
       "      <td>-999.000000</td>\n",
       "      <td>-999.000000</td>\n",
       "      <td>-999.000000</td>\n",
       "      <td>1.810000</td>\n",
       "      <td>2.841000</td>\n",
       "      <td>...</td>\n",
       "      <td>123.017500</td>\n",
       "      <td>0.000000</td>\n",
       "      <td>-999.000000</td>\n",
       "      <td>-999.000000</td>\n",
       "      <td>-999.000000</td>\n",
       "      <td>-999.000000</td>\n",
       "      <td>-999.000000</td>\n",
       "      <td>-999.000000</td>\n",
       "      <td>0.000000</td>\n",
       "      <td>0.018636</td>\n",
       "    </tr>\n",
       "    <tr>\n",
       "      <th>50%</th>\n",
       "      <td>224999.500000</td>\n",
       "      <td>105.012000</td>\n",
       "      <td>46.524000</td>\n",
       "      <td>73.752000</td>\n",
       "      <td>38.467500</td>\n",
       "      <td>-999.000000</td>\n",
       "      <td>-999.000000</td>\n",
       "      <td>-999.000000</td>\n",
       "      <td>2.491500</td>\n",
       "      <td>12.315500</td>\n",
       "      <td>...</td>\n",
       "      <td>179.739000</td>\n",
       "      <td>1.000000</td>\n",
       "      <td>38.960000</td>\n",
       "      <td>-1.872000</td>\n",
       "      <td>-2.093000</td>\n",
       "      <td>-999.000000</td>\n",
       "      <td>-999.000000</td>\n",
       "      <td>-999.000000</td>\n",
       "      <td>40.512500</td>\n",
       "      <td>1.156188</td>\n",
       "    </tr>\n",
       "    <tr>\n",
       "      <th>75%</th>\n",
       "      <td>287499.250000</td>\n",
       "      <td>130.606250</td>\n",
       "      <td>73.598000</td>\n",
       "      <td>92.259000</td>\n",
       "      <td>79.169000</td>\n",
       "      <td>0.490000</td>\n",
       "      <td>83.446000</td>\n",
       "      <td>-4.593000</td>\n",
       "      <td>2.961000</td>\n",
       "      <td>27.591000</td>\n",
       "      <td>...</td>\n",
       "      <td>263.379250</td>\n",
       "      <td>2.000000</td>\n",
       "      <td>75.349000</td>\n",
       "      <td>0.433000</td>\n",
       "      <td>0.503000</td>\n",
       "      <td>33.703000</td>\n",
       "      <td>-2.457000</td>\n",
       "      <td>-2.275000</td>\n",
       "      <td>109.933750</td>\n",
       "      <td>2.404128</td>\n",
       "    </tr>\n",
       "    <tr>\n",
       "      <th>max</th>\n",
       "      <td>349999.000000</td>\n",
       "      <td>1192.026000</td>\n",
       "      <td>690.075000</td>\n",
       "      <td>1349.351000</td>\n",
       "      <td>2834.999000</td>\n",
       "      <td>8.503000</td>\n",
       "      <td>4974.979000</td>\n",
       "      <td>16.690000</td>\n",
       "      <td>5.684000</td>\n",
       "      <td>2834.999000</td>\n",
       "      <td>...</td>\n",
       "      <td>2003.976000</td>\n",
       "      <td>3.000000</td>\n",
       "      <td>1120.573000</td>\n",
       "      <td>4.499000</td>\n",
       "      <td>3.141000</td>\n",
       "      <td>721.456000</td>\n",
       "      <td>4.500000</td>\n",
       "      <td>3.142000</td>\n",
       "      <td>1633.433000</td>\n",
       "      <td>7.822543</td>\n",
       "    </tr>\n",
       "  </tbody>\n",
       "</table>\n",
       "<p>8 rows × 32 columns</p>\n",
       "</div>"
      ],
      "text/plain": [
       "             EventId   DER_mass_MMC  DER_mass_transverse_met_lep  \\\n",
       "count  250000.000000  250000.000000                250000.000000   \n",
       "mean   224999.500000     -49.023079                    49.239819   \n",
       "std     72168.927986     406.345647                    35.344886   \n",
       "min    100000.000000    -999.000000                     0.000000   \n",
       "25%    162499.750000      78.100750                    19.241000   \n",
       "50%    224999.500000     105.012000                    46.524000   \n",
       "75%    287499.250000     130.606250                    73.598000   \n",
       "max    349999.000000    1192.026000                   690.075000   \n",
       "\n",
       "        DER_mass_vis       DER_pt_h  DER_deltaeta_jet_jet  DER_mass_jet_jet  \\\n",
       "count  250000.000000  250000.000000         250000.000000     250000.000000   \n",
       "mean       81.181982      57.895962           -708.420675       -601.237051   \n",
       "std        40.828691      63.655682            454.480565        657.972302   \n",
       "min         6.329000       0.000000           -999.000000       -999.000000   \n",
       "25%        59.388750      14.068750           -999.000000       -999.000000   \n",
       "50%        73.752000      38.467500           -999.000000       -999.000000   \n",
       "75%        92.259000      79.169000              0.490000         83.446000   \n",
       "max      1349.351000    2834.999000              8.503000       4974.979000   \n",
       "\n",
       "       DER_prodeta_jet_jet  DER_deltar_tau_lep     DER_pt_tot      ...        \\\n",
       "count        250000.000000       250000.000000  250000.000000      ...         \n",
       "mean           -709.356603            2.373100      18.917332      ...         \n",
       "std             453.019877            0.782911      22.273494      ...         \n",
       "min            -999.000000            0.208000       0.000000      ...         \n",
       "25%            -999.000000            1.810000       2.841000      ...         \n",
       "50%            -999.000000            2.491500      12.315500      ...         \n",
       "75%              -4.593000            2.961000      27.591000      ...         \n",
       "max              16.690000            5.684000    2834.999000      ...         \n",
       "\n",
       "       PRI_met_sumet    PRI_jet_num  PRI_jet_leading_pt  PRI_jet_leading_eta  \\\n",
       "count  250000.000000  250000.000000       250000.000000        250000.000000   \n",
       "mean      209.797178       0.979176         -348.329567          -399.254314   \n",
       "std       126.499506       0.977426          532.962789           489.338286   \n",
       "min        13.678000       0.000000         -999.000000          -999.000000   \n",
       "25%       123.017500       0.000000         -999.000000          -999.000000   \n",
       "50%       179.739000       1.000000           38.960000            -1.872000   \n",
       "75%       263.379250       2.000000           75.349000             0.433000   \n",
       "max      2003.976000       3.000000         1120.573000             4.499000   \n",
       "\n",
       "       PRI_jet_leading_phi  PRI_jet_subleading_pt  PRI_jet_subleading_eta  \\\n",
       "count        250000.000000          250000.000000           250000.000000   \n",
       "mean           -399.259788            -692.381204             -709.121609   \n",
       "std             489.333883             479.875496              453.384624   \n",
       "min            -999.000000            -999.000000             -999.000000   \n",
       "25%            -999.000000            -999.000000             -999.000000   \n",
       "50%              -2.093000            -999.000000             -999.000000   \n",
       "75%               0.503000              33.703000               -2.457000   \n",
       "max               3.141000             721.456000                4.500000   \n",
       "\n",
       "       PRI_jet_subleading_phi  PRI_jet_all_pt         Weight  \n",
       "count           250000.000000   250000.000000  250000.000000  \n",
       "mean              -709.118631       73.064591       1.646767  \n",
       "std                453.389017       98.015662       1.875103  \n",
       "min               -999.000000        0.000000       0.001502  \n",
       "25%               -999.000000        0.000000       0.018636  \n",
       "50%               -999.000000       40.512500       1.156188  \n",
       "75%                 -2.275000      109.933750       2.404128  \n",
       "max                  3.142000     1633.433000       7.822543  \n",
       "\n",
       "[8 rows x 32 columns]"
      ]
     },
     "metadata": {},
     "output_type": "display_data"
    }
   ],
   "source": [
    "import numpy as np\n",
    "import pandas as pd\n",
    "import matplotlib.pyplot as plt\n",
    "from sklearn.neural_network import MLPClassifier\n",
    "from IPython.display import display, HTML\n",
    "\n",
    "TRAIN_CSV = './data/training.csv'\n",
    "UNDEF_VALUE = -999\n",
    "print (\"Reading Training Data .. \")\n",
    "\n",
    "td = pd.read_csv(TRAIN_CSV)\n",
    "\n",
    "print (\"Summary of Training Data\")\n",
    "display (td.describe())\n"
   ]
  },
  {
   "cell_type": "code",
   "execution_count": 128,
   "metadata": {},
   "outputs": [
    {
     "name": "stdout",
     "output_type": "stream",
     "text": [
      "Plotting distribution of features\n",
      "=============================================================\n"
     ]
    },
    {
     "data": {
      "text/plain": [
       "array([ -999.   ,     9.044,     9.222, ...,   987.561,   988.199,\n",
       "        1192.026])"
      ]
     },
     "metadata": {},
     "output_type": "display_data"
    },
    {
     "data": {
      "text/plain": [
       "count    250000.000000\n",
       "mean        -49.023079\n",
       "std         406.345647\n",
       "min        -999.000000\n",
       "25%          78.100750\n",
       "50%         105.012000\n",
       "75%         130.606250\n",
       "max        1192.026000\n",
       "Name: DER_mass_MMC, dtype: float64"
      ]
     },
     "metadata": {},
     "output_type": "display_data"
    },
    {
     "name": "stderr",
     "output_type": "stream",
     "text": [
      "c:\\users\\hi\\appdata\\local\\programs\\python\\python35\\lib\\site-packages\\ipykernel_launcher.py:69: SettingWithCopyWarning: \n",
      "A value is trying to be set on a copy of a slice from a DataFrame\n",
      "\n",
      "See the caveats in the documentation: http://pandas.pydata.org/pandas-docs/stable/indexing.html#indexing-view-versus-copy\n"
     ]
    },
    {
     "data": {
      "text/plain": [
       "array([    9.044,     9.222,     9.653, ...,   987.561,   988.199,\n",
       "        1192.026])"
      ]
     },
     "metadata": {},
     "output_type": "display_data"
    },
    {
     "data": {
      "text/plain": [
       "count    250000.000000\n",
       "mean        121.858528\n",
       "std          52.749898\n",
       "min           9.044000\n",
       "25%          95.665000\n",
       "50%         119.958000\n",
       "75%         130.606250\n",
       "max        1192.026000\n",
       "Name: DER_mass_MMC, dtype: float64"
      ]
     },
     "metadata": {},
     "output_type": "display_data"
    },
    {
     "data": {
      "image/png": "[encoded data removed]",
      "text/plain": [
       "<matplotlib.figure.Figure at 0x1659afdac8>"
      ]
     },
     "metadata": {},
     "output_type": "display_data"
    },
    {
     "name": "stdout",
     "output_type": "stream",
     "text": [
      "=============================================================\n"
     ]
    },
    {
     "data": {
      "text/plain": [
       "array([  0.00000000e+00,   1.00000000e-03,   2.00000000e-03, ...,\n",
       "         5.94287000e+02,   5.95819000e+02,   6.90075000e+02])"
      ]
     },
     "metadata": {},
     "output_type": "display_data"
    },
    {
     "data": {
      "text/plain": [
       "count    250000.000000\n",
       "mean         49.239819\n",
       "std          35.344886\n",
       "min           0.000000\n",
       "25%          19.241000\n",
       "50%          46.524000\n",
       "75%          73.598000\n",
       "max         690.075000\n",
       "Name: DER_mass_transverse_met_lep, dtype: float64"
      ]
     },
     "metadata": {},
     "output_type": "display_data"
    },
    {
     "data": {
      "text/plain": [
       "array([  0.00000000e+00,   1.00000000e-03,   2.00000000e-03, ...,\n",
       "         5.94287000e+02,   5.95819000e+02,   6.90075000e+02])"
      ]
     },
     "metadata": {},
     "output_type": "display_data"
    },
    {
     "data": {
      "text/plain": [
       "count    250000.000000\n",
       "mean         49.239819\n",
       "std          35.344886\n",
       "min           0.000000\n",
       "25%          19.241000\n",
       "50%          46.524000\n",
       "75%          73.598000\n",
       "max         690.075000\n",
       "Name: DER_mass_transverse_met_lep, dtype: float64"
      ]
     },
     "metadata": {},
     "output_type": "display_data"
    },
    {
     "data": {
      "image/png": "[encoded data removed]",
      "text/plain": [
       "<matplotlib.figure.Figure at 0x16540a94a8>"
      ]
     },
     "metadata": {},
     "output_type": "display_data"
    },
    {
     "name": "stdout",
     "output_type": "stream",
     "text": [
      "=============================================================\n"
     ]
    },
    {
     "data": {
      "text/plain": [
       "array([    6.329,     6.462,     7.12 , ...,  1153.166,  1329.913,\n",
       "        1349.351])"
      ]
     },
     "metadata": {},
     "output_type": "display_data"
    },
    {
     "data": {
      "text/plain": [
       "count    250000.000000\n",
       "mean         81.181982\n",
       "std          40.828691\n",
       "min           6.329000\n",
       "25%          59.388750\n",
       "50%          73.752000\n",
       "75%          92.259000\n",
       "max        1349.351000\n",
       "Name: DER_mass_vis, dtype: float64"
      ]
     },
     "metadata": {},
     "output_type": "display_data"
    },
    {
     "data": {
      "text/plain": [
       "array([    6.329,     6.462,     7.12 , ...,  1153.166,  1329.913,\n",
       "        1349.351])"
      ]
     },
     "metadata": {},
     "output_type": "display_data"
    },
    {
     "data": {
      "text/plain": [
       "count    250000.000000\n",
       "mean         81.181982\n",
       "std          40.828691\n",
       "min           6.329000\n",
       "25%          59.388750\n",
       "50%          73.752000\n",
       "75%          92.259000\n",
       "max        1349.351000\n",
       "Name: DER_mass_vis, dtype: float64"
      ]
     },
     "metadata": {},
     "output_type": "display_data"
    },
    {
     "data": {
      "image/png": "[encoded data removed]",
      "text/plain": [
       "<matplotlib.figure.Figure at 0x16540f66a0>"
      ]
     },
     "metadata": {},
     "output_type": "display_data"
    },
    {
     "name": "stdout",
     "output_type": "stream",
     "text": [
      "=============================================================\n"
     ]
    },
    {
     "data": {
      "text/plain": [
       "array([  0.00000000e+00,   5.00000000e-03,   1.10000000e-02, ...,\n",
       "         7.62806000e+02,   1.05380700e+03,   2.83499900e+03])"
      ]
     },
     "metadata": {},
     "output_type": "display_data"
    },
    {
     "data": {
      "text/plain": [
       "count    250000.000000\n",
       "mean         57.895962\n",
       "std          63.655682\n",
       "min           0.000000\n",
       "25%          14.068750\n",
       "50%          38.467500\n",
       "75%          79.169000\n",
       "max        2834.999000\n",
       "Name: DER_pt_h, dtype: float64"
      ]
     },
     "metadata": {},
     "output_type": "display_data"
    },
    {
     "data": {
      "text/plain": [
       "array([  0.00000000e+00,   5.00000000e-03,   1.10000000e-02, ...,\n",
       "         7.62806000e+02,   1.05380700e+03,   2.83499900e+03])"
      ]
     },
     "metadata": {},
     "output_type": "display_data"
    },
    {
     "data": {
      "text/plain": [
       "count    250000.000000\n",
       "mean         57.895962\n",
       "std          63.655682\n",
       "min           0.000000\n",
       "25%          14.068750\n",
       "50%          38.467500\n",
       "75%          79.169000\n",
       "max        2834.999000\n",
       "Name: DER_pt_h, dtype: float64"
      ]
     },
     "metadata": {},
     "output_type": "display_data"
    },
    {
     "data": {
      "image/png": "[encoded data removed]",
      "text/plain": [
       "<matplotlib.figure.Figure at 0x1654059f60>"
      ]
     },
     "metadata": {},
     "output_type": "display_data"
    },
    {
     "name": "stdout",
     "output_type": "stream",
     "text": [
      "=============================================================\n"
     ]
    },
    {
     "data": {
      "text/plain": [
       "array([ -9.99000000e+02,   0.00000000e+00,   1.00000000e-03, ...,\n",
       "         8.32600000e+00,   8.45900000e+00,   8.50300000e+00])"
      ]
     },
     "metadata": {},
     "output_type": "display_data"
    },
    {
     "data": {
      "text/plain": [
       "count    250000.000000\n",
       "mean       -708.420675\n",
       "std         454.480565\n",
       "min        -999.000000\n",
       "25%        -999.000000\n",
       "50%        -999.000000\n",
       "75%           0.490000\n",
       "max           8.503000\n",
       "Name: DER_deltaeta_jet_jet, dtype: float64"
      ]
     },
     "metadata": {},
     "output_type": "display_data"
    },
    {
     "data": {
      "text/plain": [
       "array([  0.00000000e+00,   1.00000000e-03,   2.00000000e-03, ...,\n",
       "         8.32600000e+00,   8.45900000e+00,   8.50300000e+00])"
      ]
     },
     "metadata": {},
     "output_type": "display_data"
    },
    {
     "data": {
      "text/plain": [
       "count    250000.000000\n",
       "mean          2.403735\n",
       "std           0.938491\n",
       "min           0.000000\n",
       "25%           2.403735\n",
       "50%           2.403735\n",
       "75%           2.403735\n",
       "max           8.503000\n",
       "Name: DER_deltaeta_jet_jet, dtype: float64"
      ]
     },
     "metadata": {},
     "output_type": "display_data"
    },
    {
     "data": {
      "image/png": "[encoded data removed]",
      "text/plain": [
       "<matplotlib.figure.Figure at 0x165809e3c8>"
      ]
     },
     "metadata": {},
     "output_type": "display_data"
    },
    {
     "name": "stdout",
     "output_type": "stream",
     "text": [
      "=============================================================\n"
     ]
    },
    {
     "data": {
      "text/plain": [
       "array([ -999.   ,    13.602,    14.992, ...,  4160.527,  4543.913,\n",
       "        4974.979])"
      ]
     },
     "metadata": {},
     "output_type": "display_data"
    },
    {
     "data": {
      "text/plain": [
       "count    250000.000000\n",
       "mean       -601.237051\n",
       "std         657.972302\n",
       "min        -999.000000\n",
       "25%        -999.000000\n",
       "50%        -999.000000\n",
       "75%          83.446000\n",
       "max        4974.979000\n",
       "Name: DER_mass_jet_jet, dtype: float64"
      ]
     },
     "metadata": {},
     "output_type": "display_data"
    },
    {
     "data": {
      "text/plain": [
       "array([   13.602,    14.992,    15.319, ...,  4160.527,  4543.913,\n",
       "        4974.979])"
      ]
     },
     "metadata": {},
     "output_type": "display_data"
    },
    {
     "data": {
      "text/plain": [
       "count    250000.000000\n",
       "mean        371.783360\n",
       "std         214.230095\n",
       "min          13.602000\n",
       "25%         371.783360\n",
       "50%         371.783360\n",
       "75%         371.783360\n",
       "max        4974.979000\n",
       "Name: DER_mass_jet_jet, dtype: float64"
      ]
     },
     "metadata": {},
     "output_type": "display_data"
    },
    {
     "data": {
      "image/png": "[encoded data removed]",
      "text/plain": [
       "<matplotlib.figure.Figure at 0x16542dbc18>"
      ]
     },
     "metadata": {},
     "output_type": "display_data"
    },
    {
     "name": "stdout",
     "output_type": "stream",
     "text": [
      "=============================================================\n"
     ]
    },
    {
     "data": {
      "text/plain": [
       "array([-999.   ,  -18.066,  -17.842, ...,   16.219,   16.648,   16.69 ])"
      ]
     },
     "metadata": {},
     "output_type": "display_data"
    },
    {
     "data": {
      "text/plain": [
       "count    250000.000000\n",
       "mean       -709.356603\n",
       "std         453.019877\n",
       "min        -999.000000\n",
       "25%        -999.000000\n",
       "50%        -999.000000\n",
       "75%          -4.593000\n",
       "max          16.690000\n",
       "Name: DER_prodeta_jet_jet, dtype: float64"
      ]
     },
     "metadata": {},
     "output_type": "display_data"
    },
    {
     "data": {
      "text/plain": [
       "array([-18.066, -17.842, -17.27 , ...,  16.219,  16.648,  16.69 ])"
      ]
     },
     "metadata": {},
     "output_type": "display_data"
    },
    {
     "data": {
      "text/plain": [
       "count    250000.000000\n",
       "mean         -0.821688\n",
       "std           1.930801\n",
       "min         -18.066000\n",
       "25%          -0.821688\n",
       "50%          -0.821688\n",
       "75%          -0.821688\n",
       "max          16.690000\n",
       "Name: DER_prodeta_jet_jet, dtype: float64"
      ]
     },
     "metadata": {},
     "output_type": "display_data"
    },
    {
     "data": {
      "image/png": "[encoded data removed]",
      "text/plain": [
       "<matplotlib.figure.Figure at 0x1657d51f28>"
      ]
     },
     "metadata": {},
     "output_type": "display_data"
    },
    {
     "name": "stdout",
     "output_type": "stream",
     "text": [
      "=============================================================\n"
     ]
    },
    {
     "data": {
      "text/plain": [
       "array([ 0.208,  0.224,  0.228, ...,  5.642,  5.655,  5.684])"
      ]
     },
     "metadata": {},
     "output_type": "display_data"
    },
    {
     "data": {
      "text/plain": [
       "count    250000.000000\n",
       "mean          2.373100\n",
       "std           0.782911\n",
       "min           0.208000\n",
       "25%           1.810000\n",
       "50%           2.491500\n",
       "75%           2.961000\n",
       "max           5.684000\n",
       "Name: DER_deltar_tau_lep, dtype: float64"
      ]
     },
     "metadata": {},
     "output_type": "display_data"
    },
    {
     "data": {
      "text/plain": [
       "array([ 0.208,  0.224,  0.228, ...,  5.642,  5.655,  5.684])"
      ]
     },
     "metadata": {},
     "output_type": "display_data"
    },
    {
     "data": {
      "text/plain": [
       "count    250000.000000\n",
       "mean          2.373100\n",
       "std           0.782911\n",
       "min           0.208000\n",
       "25%           1.810000\n",
       "50%           2.491500\n",
       "75%           2.961000\n",
       "max           5.684000\n",
       "Name: DER_deltar_tau_lep, dtype: float64"
      ]
     },
     "metadata": {},
     "output_type": "display_data"
    },
    {
     "data": {
      "image/png": "[encoded data removed]",
      "text/plain": [
       "<matplotlib.figure.Figure at 0x1657ea8c50>"
      ]
     },
     "metadata": {},
     "output_type": "display_data"
    },
    {
     "name": "stdout",
     "output_type": "stream",
     "text": [
      "=============================================================\n"
     ]
    },
    {
     "data": {
      "text/plain": [
       "array([  0.00000000e+00,   1.00000000e-03,   3.00000000e-03, ...,\n",
       "         4.66525000e+02,   5.13659000e+02,   2.83499900e+03])"
      ]
     },
     "metadata": {},
     "output_type": "display_data"
    },
    {
     "data": {
      "text/plain": [
       "count    250000.000000\n",
       "mean         18.917332\n",
       "std          22.273494\n",
       "min           0.000000\n",
       "25%           2.841000\n",
       "50%          12.315500\n",
       "75%          27.591000\n",
       "max        2834.999000\n",
       "Name: DER_pt_tot, dtype: float64"
      ]
     },
     "metadata": {},
     "output_type": "display_data"
    },
    {
     "data": {
      "text/plain": [
       "array([  0.00000000e+00,   1.00000000e-03,   3.00000000e-03, ...,\n",
       "         4.66525000e+02,   5.13659000e+02,   2.83499900e+03])"
      ]
     },
     "metadata": {},
     "output_type": "display_data"
    },
    {
     "data": {
      "text/plain": [
       "count    250000.000000\n",
       "mean         18.917332\n",
       "std          22.273494\n",
       "min           0.000000\n",
       "25%           2.841000\n",
       "50%          12.315500\n",
       "75%          27.591000\n",
       "max        2834.999000\n",
       "Name: DER_pt_tot, dtype: float64"
      ]
     },
     "metadata": {},
     "output_type": "display_data"
    },
    {
     "data": {
      "image/png": "[encoded data removed]",
      "text/plain": [
       "<matplotlib.figure.Figure at 0x16581c8898>"
      ]
     },
     "metadata": {},
     "output_type": "display_data"
    },
    {
     "name": "stdout",
     "output_type": "stream",
     "text": [
      "=============================================================\n"
     ]
    },
    {
     "data": {
      "text/plain": [
       "array([   46.104,    46.212,    46.227, ...,  1687.087,  1703.752,\n",
       "        1852.462])"
      ]
     },
     "metadata": {},
     "output_type": "display_data"
    },
    {
     "data": {
      "text/plain": [
       "count    250000.000000\n",
       "mean        158.432217\n",
       "std         115.706115\n",
       "min          46.104000\n",
       "25%          77.550000\n",
       "50%         120.664500\n",
       "75%         200.478250\n",
       "max        1852.462000\n",
       "Name: DER_sum_pt, dtype: float64"
      ]
     },
     "metadata": {},
     "output_type": "display_data"
    },
    {
     "data": {
      "text/plain": [
       "array([   46.104,    46.212,    46.227, ...,  1687.087,  1703.752,\n",
       "        1852.462])"
      ]
     },
     "metadata": {},
     "output_type": "display_data"
    },
    {
     "data": {
      "text/plain": [
       "count    250000.000000\n",
       "mean        158.432217\n",
       "std         115.706115\n",
       "min          46.104000\n",
       "25%          77.550000\n",
       "50%         120.664500\n",
       "75%         200.478250\n",
       "max        1852.462000\n",
       "Name: DER_sum_pt, dtype: float64"
      ]
     },
     "metadata": {},
     "output_type": "display_data"
    },
    {
     "data": {
      "image/png": "[encoded data removed]",
      "text/plain": [
       "<matplotlib.figure.Figure at 0x1654c44128>"
      ]
     },
     "metadata": {},
     "output_type": "display_data"
    },
    {
     "name": "stdout",
     "output_type": "stream",
     "text": [
      "=============================================================\n"
     ]
    },
    {
     "data": {
      "text/plain": [
       "array([  0.047,   0.074,   0.077, ...,  18.992,  19.672,  19.773])"
      ]
     },
     "metadata": {},
     "output_type": "display_data"
    },
    {
     "data": {
      "text/plain": [
       "count    250000.000000\n",
       "mean          1.437609\n",
       "std           0.844743\n",
       "min           0.047000\n",
       "25%           0.883000\n",
       "50%           1.280000\n",
       "75%           1.777000\n",
       "max          19.773000\n",
       "Name: DER_pt_ratio_lep_tau, dtype: float64"
      ]
     },
     "metadata": {},
     "output_type": "display_data"
    },
    {
     "data": {
      "text/plain": [
       "array([  0.047,   0.074,   0.077, ...,  18.992,  19.672,  19.773])"
      ]
     },
     "metadata": {},
     "output_type": "display_data"
    },
    {
     "data": {
      "text/plain": [
       "count    250000.000000\n",
       "mean          1.437609\n",
       "std           0.844743\n",
       "min           0.047000\n",
       "25%           0.883000\n",
       "50%           1.280000\n",
       "75%           1.777000\n",
       "max          19.773000\n",
       "Name: DER_pt_ratio_lep_tau, dtype: float64"
      ]
     },
     "metadata": {},
     "output_type": "display_data"
    },
    {
     "data": {
      "image/png": "[encoded data removed]",
      "text/plain": [
       "<matplotlib.figure.Figure at 0x16581b6710>"
      ]
     },
     "metadata": {},
     "output_type": "display_data"
    },
    {
     "name": "stdout",
     "output_type": "stream",
     "text": [
      "=============================================================\n"
     ]
    },
    {
     "data": {
      "text/plain": [
       "array([-1.414, -1.413, -1.412, ...,  1.412,  1.413,  1.414])"
      ]
     },
     "metadata": {},
     "output_type": "display_data"
    },
    {
     "data": {
      "text/plain": [
       "count    250000.000000\n",
       "mean         -0.128305\n",
       "std           1.193585\n",
       "min          -1.414000\n",
       "25%          -1.371000\n",
       "50%          -0.356000\n",
       "75%           1.225000\n",
       "max           1.414000\n",
       "Name: DER_met_phi_centrality, dtype: float64"
      ]
     },
     "metadata": {},
     "output_type": "display_data"
    },
    {
     "data": {
      "text/plain": [
       "array([-1.414, -1.413, -1.412, ...,  1.412,  1.413,  1.414])"
      ]
     },
     "metadata": {},
     "output_type": "display_data"
    },
    {
     "data": {
      "text/plain": [
       "count    250000.000000\n",
       "mean         -0.128305\n",
       "std           1.193585\n",
       "min          -1.414000\n",
       "25%          -1.371000\n",
       "50%          -0.356000\n",
       "75%           1.225000\n",
       "max           1.414000\n",
       "Name: DER_met_phi_centrality, dtype: float64"
      ]
     },
     "metadata": {},
     "output_type": "display_data"
    },
    {
     "data": {
      "image/png": "[encoded data removed]",
      "text/plain": [
       "<matplotlib.figure.Figure at 0x165808cc50>"
      ]
     },
     "metadata": {},
     "output_type": "display_data"
    },
    {
     "name": "stdout",
     "output_type": "stream",
     "text": [
      "=============================================================\n"
     ]
    },
    {
     "data": {
      "text/plain": [
       "array([ -9.99000000e+02,   0.00000000e+00,   1.00000000e-03, ...,\n",
       "         9.98000000e-01,   9.99000000e-01,   1.00000000e+00])"
      ]
     },
     "metadata": {},
     "output_type": "display_data"
    },
    {
     "data": {
      "text/plain": [
       "count    250000.000000\n",
       "mean       -708.985189\n",
       "std         453.596721\n",
       "min        -999.000000\n",
       "25%        -999.000000\n",
       "50%        -999.000000\n",
       "75%           0.000000\n",
       "max           1.000000\n",
       "Name: DER_lep_eta_centrality, dtype: float64"
      ]
     },
     "metadata": {},
     "output_type": "display_data"
    },
    {
     "data": {
      "text/plain": [
       "array([ 0.   ,  0.001,  0.002, ...,  0.998,  0.999,  1.   ])"
      ]
     },
     "metadata": {},
     "output_type": "display_data"
    },
    {
     "data": {
      "text/plain": [
       "count    250000.000000\n",
       "mean          0.458290\n",
       "std           0.214759\n",
       "min           0.000000\n",
       "25%           0.458290\n",
       "50%           0.458290\n",
       "75%           0.458290\n",
       "max           1.000000\n",
       "Name: DER_lep_eta_centrality, dtype: float64"
      ]
     },
     "metadata": {},
     "output_type": "display_data"
    },
    {
     "data": {
      "image/png": "[encoded data removed]",
      "text/plain": [
       "<matplotlib.figure.Figure at 0x16541a3128>"
      ]
     },
     "metadata": {},
     "output_type": "display_data"
    },
    {
     "name": "stdout",
     "output_type": "stream",
     "text": [
      "=============================================================\n"
     ]
    },
    {
     "data": {
      "text/plain": [
       "array([  20.   ,   20.001,   20.002, ...,  505.06 ,  622.862,  764.408])"
      ]
     },
     "metadata": {},
     "output_type": "display_data"
    },
    {
     "data": {
      "text/plain": [
       "count    250000.000000\n",
       "mean         38.707419\n",
       "std          22.412081\n",
       "min          20.000000\n",
       "25%          24.591750\n",
       "50%          31.804000\n",
       "75%          45.017000\n",
       "max         764.408000\n",
       "Name: PRI_tau_pt, dtype: float64"
      ]
     },
     "metadata": {},
     "output_type": "display_data"
    },
    {
     "data": {
      "text/plain": [
       "array([  20.   ,   20.001,   20.002, ...,  505.06 ,  622.862,  764.408])"
      ]
     },
     "metadata": {},
     "output_type": "display_data"
    },
    {
     "data": {
      "text/plain": [
       "count    250000.000000\n",
       "mean         38.707419\n",
       "std          22.412081\n",
       "min          20.000000\n",
       "25%          24.591750\n",
       "50%          31.804000\n",
       "75%          45.017000\n",
       "max         764.408000\n",
       "Name: PRI_tau_pt, dtype: float64"
      ]
     },
     "metadata": {},
     "output_type": "display_data"
    },
    {
     "data": {
      "image/png": "[encoded data removed]",
      "text/plain": [
       "<matplotlib.figure.Figure at 0x1654c9cac8>"
      ]
     },
     "metadata": {},
     "output_type": "display_data"
    },
    {
     "name": "stdout",
     "output_type": "stream",
     "text": [
      "=============================================================\n"
     ]
    },
    {
     "data": {
      "text/plain": [
       "array([-2.499, -2.498, -2.497, ...,  2.494,  2.495,  2.497])"
      ]
     },
     "metadata": {},
     "output_type": "display_data"
    },
    {
     "data": {
      "text/plain": [
       "count    250000.000000\n",
       "mean         -0.010973\n",
       "std           1.214079\n",
       "min          -2.499000\n",
       "25%          -0.925000\n",
       "50%          -0.023000\n",
       "75%           0.898000\n",
       "max           2.497000\n",
       "Name: PRI_tau_eta, dtype: float64"
      ]
     },
     "metadata": {},
     "output_type": "display_data"
    },
    {
     "data": {
      "text/plain": [
       "array([-2.499, -2.498, -2.497, ...,  2.494,  2.495,  2.497])"
      ]
     },
     "metadata": {},
     "output_type": "display_data"
    },
    {
     "data": {
      "text/plain": [
       "count    250000.000000\n",
       "mean         -0.010973\n",
       "std           1.214079\n",
       "min          -2.499000\n",
       "25%          -0.925000\n",
       "50%          -0.023000\n",
       "75%           0.898000\n",
       "max           2.497000\n",
       "Name: PRI_tau_eta, dtype: float64"
      ]
     },
     "metadata": {},
     "output_type": "display_data"
    },
    {
     "data": {
      "image/png": "[encoded data removed]",
      "text/plain": [
       "<matplotlib.figure.Figure at 0x16540e2a58>"
      ]
     },
     "metadata": {},
     "output_type": "display_data"
    },
    {
     "name": "stdout",
     "output_type": "stream",
     "text": [
      "=============================================================\n"
     ]
    },
    {
     "data": {
      "text/plain": [
       "array([-3.142, -3.141, -3.14 , ...,  3.14 ,  3.141,  3.142])"
      ]
     },
     "metadata": {},
     "output_type": "display_data"
    },
    {
     "data": {
      "text/plain": [
       "count    250000.000000\n",
       "mean         -0.008171\n",
       "std           1.816763\n",
       "min          -3.142000\n",
       "25%          -1.575000\n",
       "50%          -0.033000\n",
       "75%           1.565000\n",
       "max           3.142000\n",
       "Name: PRI_tau_phi, dtype: float64"
      ]
     },
     "metadata": {},
     "output_type": "display_data"
    },
    {
     "data": {
      "text/plain": [
       "array([-3.142, -3.141, -3.14 , ...,  3.14 ,  3.141,  3.142])"
      ]
     },
     "metadata": {},
     "output_type": "display_data"
    },
    {
     "data": {
      "text/plain": [
       "count    250000.000000\n",
       "mean         -0.008171\n",
       "std           1.816763\n",
       "min          -3.142000\n",
       "25%          -1.575000\n",
       "50%          -0.033000\n",
       "75%           1.565000\n",
       "max           3.142000\n",
       "Name: PRI_tau_phi, dtype: float64"
      ]
     },
     "metadata": {},
     "output_type": "display_data"
    },
    {
     "data": {
      "image/png": "[encoded data removed]",
      "text/plain": [
       "<matplotlib.figure.Figure at 0x1654126f60>"
      ]
     },
     "metadata": {},
     "output_type": "display_data"
    },
    {
     "name": "stdout",
     "output_type": "stream",
     "text": [
      "=============================================================\n"
     ]
    },
    {
     "data": {
      "text/plain": [
       "array([  26.   ,   26.001,   26.002, ...,  452.434,  461.896,  560.271])"
      ]
     },
     "metadata": {},
     "output_type": "display_data"
    },
    {
     "data": {
      "text/plain": [
       "count    250000.000000\n",
       "mean         46.660207\n",
       "std          22.064922\n",
       "min          26.000000\n",
       "25%          32.375000\n",
       "50%          40.516000\n",
       "75%          53.390000\n",
       "max         560.271000\n",
       "Name: PRI_lep_pt, dtype: float64"
      ]
     },
     "metadata": {},
     "output_type": "display_data"
    },
    {
     "data": {
      "text/plain": [
       "array([  26.   ,   26.001,   26.002, ...,  452.434,  461.896,  560.271])"
      ]
     },
     "metadata": {},
     "output_type": "display_data"
    },
    {
     "data": {
      "text/plain": [
       "count    250000.000000\n",
       "mean         46.660207\n",
       "std          22.064922\n",
       "min          26.000000\n",
       "25%          32.375000\n",
       "50%          40.516000\n",
       "75%          53.390000\n",
       "max         560.271000\n",
       "Name: PRI_lep_pt, dtype: float64"
      ]
     },
     "metadata": {},
     "output_type": "display_data"
    },
    {
     "data": {
      "image/png": "[encoded data removed]",
      "text/plain": [
       "<matplotlib.figure.Figure at 0x16583585f8>"
      ]
     },
     "metadata": {},
     "output_type": "display_data"
    },
    {
     "name": "stdout",
     "output_type": "stream",
     "text": [
      "=============================================================\n"
     ]
    },
    {
     "data": {
      "text/plain": [
       "array([-2.505, -2.494, -2.49 , ...,  2.499,  2.502,  2.503])"
      ]
     },
     "metadata": {},
     "output_type": "display_data"
    },
    {
     "data": {
      "text/plain": [
       "count    250000.000000\n",
       "mean         -0.019507\n",
       "std           1.264982\n",
       "min          -2.505000\n",
       "25%          -1.014000\n",
       "50%          -0.045000\n",
       "75%           0.959000\n",
       "max           2.503000\n",
       "Name: PRI_lep_eta, dtype: float64"
      ]
     },
     "metadata": {},
     "output_type": "display_data"
    },
    {
     "data": {
      "text/plain": [
       "array([-2.505, -2.494, -2.49 , ...,  2.499,  2.502,  2.503])"
      ]
     },
     "metadata": {},
     "output_type": "display_data"
    },
    {
     "data": {
      "text/plain": [
       "count    250000.000000\n",
       "mean         -0.019507\n",
       "std           1.264982\n",
       "min          -2.505000\n",
       "25%          -1.014000\n",
       "50%          -0.045000\n",
       "75%           0.959000\n",
       "max           2.503000\n",
       "Name: PRI_lep_eta, dtype: float64"
      ]
     },
     "metadata": {},
     "output_type": "display_data"
    },
    {
     "data": {
      "image/png": "[encoded data removed]",
      "text/plain": [
       "<matplotlib.figure.Figure at 0x1659a5ab70>"
      ]
     },
     "metadata": {},
     "output_type": "display_data"
    },
    {
     "name": "stdout",
     "output_type": "stream",
     "text": [
      "=============================================================\n"
     ]
    },
    {
     "data": {
      "text/plain": [
       "array([-3.142, -3.141, -3.14 , ...,  3.14 ,  3.141,  3.142])"
      ]
     },
     "metadata": {},
     "output_type": "display_data"
    },
    {
     "data": {
      "text/plain": [
       "count    250000.000000\n",
       "mean          0.043543\n",
       "std           1.816611\n",
       "min          -3.142000\n",
       "25%          -1.522000\n",
       "50%           0.086000\n",
       "75%           1.618000\n",
       "max           3.142000\n",
       "Name: PRI_lep_phi, dtype: float64"
      ]
     },
     "metadata": {},
     "output_type": "display_data"
    },
    {
     "data": {
      "text/plain": [
       "array([-3.142, -3.141, -3.14 , ...,  3.14 ,  3.141,  3.142])"
      ]
     },
     "metadata": {},
     "output_type": "display_data"
    },
    {
     "data": {
      "text/plain": [
       "count    250000.000000\n",
       "mean          0.043543\n",
       "std           1.816611\n",
       "min          -3.142000\n",
       "25%          -1.522000\n",
       "50%           0.086000\n",
       "75%           1.618000\n",
       "max           3.142000\n",
       "Name: PRI_lep_phi, dtype: float64"
      ]
     },
     "metadata": {},
     "output_type": "display_data"
    },
    {
     "data": {
      "image/png": "[encoded data removed]",
      "text/plain": [
       "<matplotlib.figure.Figure at 0x16006625f8>"
      ]
     },
     "metadata": {},
     "output_type": "display_data"
    },
    {
     "name": "stdout",
     "output_type": "stream",
     "text": [
      "=============================================================\n"
     ]
    },
    {
     "data": {
      "text/plain": [
       "array([  1.09000000e-01,   1.55000000e-01,   1.62000000e-01, ...,\n",
       "         6.95533000e+02,   9.51363000e+02,   2.84261700e+03])"
      ]
     },
     "metadata": {},
     "output_type": "display_data"
    },
    {
     "data": {
      "text/plain": [
       "count    250000.000000\n",
       "mean         41.717235\n",
       "std          32.894693\n",
       "min           0.109000\n",
       "25%          21.398000\n",
       "50%          34.802000\n",
       "75%          51.895000\n",
       "max        2842.617000\n",
       "Name: PRI_met, dtype: float64"
      ]
     },
     "metadata": {},
     "output_type": "display_data"
    },
    {
     "data": {
      "text/plain": [
       "array([  1.09000000e-01,   1.55000000e-01,   1.62000000e-01, ...,\n",
       "         6.95533000e+02,   9.51363000e+02,   2.84261700e+03])"
      ]
     },
     "metadata": {},
     "output_type": "display_data"
    },
    {
     "data": {
      "text/plain": [
       "count    250000.000000\n",
       "mean         41.717235\n",
       "std          32.894693\n",
       "min           0.109000\n",
       "25%          21.398000\n",
       "50%          34.802000\n",
       "75%          51.895000\n",
       "max        2842.617000\n",
       "Name: PRI_met, dtype: float64"
      ]
     },
     "metadata": {},
     "output_type": "display_data"
    },
    {
     "data": {
      "image/png": "[encoded data removed]",
      "text/plain": [
       "<matplotlib.figure.Figure at 0x165855d8d0>"
      ]
     },
     "metadata": {},
     "output_type": "display_data"
    },
    {
     "name": "stdout",
     "output_type": "stream",
     "text": [
      "=============================================================\n"
     ]
    },
    {
     "data": {
      "text/plain": [
       "array([-3.142, -3.141, -3.14 , ...,  3.14 ,  3.141,  3.142])"
      ]
     },
     "metadata": {},
     "output_type": "display_data"
    },
    {
     "data": {
      "text/plain": [
       "count    250000.000000\n",
       "mean         -0.010119\n",
       "std           1.812223\n",
       "min          -3.142000\n",
       "25%          -1.575000\n",
       "50%          -0.024000\n",
       "75%           1.561000\n",
       "max           3.142000\n",
       "Name: PRI_met_phi, dtype: float64"
      ]
     },
     "metadata": {},
     "output_type": "display_data"
    },
    {
     "data": {
      "text/plain": [
       "array([-3.142, -3.141, -3.14 , ...,  3.14 ,  3.141,  3.142])"
      ]
     },
     "metadata": {},
     "output_type": "display_data"
    },
    {
     "data": {
      "text/plain": [
       "count    250000.000000\n",
       "mean         -0.010119\n",
       "std           1.812223\n",
       "min          -3.142000\n",
       "25%          -1.575000\n",
       "50%          -0.024000\n",
       "75%           1.561000\n",
       "max           3.142000\n",
       "Name: PRI_met_phi, dtype: float64"
      ]
     },
     "metadata": {},
     "output_type": "display_data"
    },
    {
     "data": {
      "image/png": "[encoded data removed]",
      "text/plain": [
       "<matplotlib.figure.Figure at 0x16584b3dd8>"
      ]
     },
     "metadata": {},
     "output_type": "display_data"
    },
    {
     "name": "stdout",
     "output_type": "stream",
     "text": [
      "=============================================================\n"
     ]
    },
    {
     "data": {
      "text/plain": [
       "array([   13.678,    17.931,    18.534, ...,  1726.939,  1733.037,\n",
       "        2003.976])"
      ]
     },
     "metadata": {},
     "output_type": "display_data"
    },
    {
     "data": {
      "text/plain": [
       "count    250000.000000\n",
       "mean        209.797178\n",
       "std         126.499506\n",
       "min          13.678000\n",
       "25%         123.017500\n",
       "50%         179.739000\n",
       "75%         263.379250\n",
       "max        2003.976000\n",
       "Name: PRI_met_sumet, dtype: float64"
      ]
     },
     "metadata": {},
     "output_type": "display_data"
    },
    {
     "data": {
      "text/plain": [
       "array([   13.678,    17.931,    18.534, ...,  1726.939,  1733.037,\n",
       "        2003.976])"
      ]
     },
     "metadata": {},
     "output_type": "display_data"
    },
    {
     "data": {
      "text/plain": [
       "count    250000.000000\n",
       "mean        209.797178\n",
       "std         126.499506\n",
       "min          13.678000\n",
       "25%         123.017500\n",
       "50%         179.739000\n",
       "75%         263.379250\n",
       "max        2003.976000\n",
       "Name: PRI_met_sumet, dtype: float64"
      ]
     },
     "metadata": {},
     "output_type": "display_data"
    },
    {
     "data": {
      "image/png": "[encoded data removed]",
      "text/plain": [
       "<matplotlib.figure.Figure at 0x1657d60c88>"
      ]
     },
     "metadata": {},
     "output_type": "display_data"
    },
    {
     "name": "stdout",
     "output_type": "stream",
     "text": [
      "=============================================================\n"
     ]
    },
    {
     "data": {
      "text/plain": [
       "array([0, 1, 2, 3], dtype=int64)"
      ]
     },
     "metadata": {},
     "output_type": "display_data"
    },
    {
     "data": {
      "text/plain": [
       "count    250000.000000\n",
       "mean          0.979176\n",
       "std           0.977426\n",
       "min           0.000000\n",
       "25%           0.000000\n",
       "50%           1.000000\n",
       "75%           2.000000\n",
       "max           3.000000\n",
       "Name: PRI_jet_num, dtype: float64"
      ]
     },
     "metadata": {},
     "output_type": "display_data"
    },
    {
     "data": {
      "text/plain": [
       "array([0, 1, 2, 3], dtype=int64)"
      ]
     },
     "metadata": {},
     "output_type": "display_data"
    },
    {
     "data": {
      "text/plain": [
       "count    250000.000000\n",
       "mean          0.979176\n",
       "std           0.977426\n",
       "min           0.000000\n",
       "25%           0.000000\n",
       "50%           1.000000\n",
       "75%           2.000000\n",
       "max           3.000000\n",
       "Name: PRI_jet_num, dtype: float64"
      ]
     },
     "metadata": {},
     "output_type": "display_data"
    },
    {
     "data": {
      "image/png": "[encoded data removed]",
      "text/plain": [
       "<matplotlib.figure.Figure at 0x165838aa20>"
      ]
     },
     "metadata": {},
     "output_type": "display_data"
    },
    {
     "name": "stdout",
     "output_type": "stream",
     "text": [
      "=============================================================\n"
     ]
    },
    {
     "data": {
      "text/plain": [
       "array([ -999.   ,    30.   ,    30.001, ...,   755.235,   760.846,\n",
       "        1120.573])"
      ]
     },
     "metadata": {},
     "output_type": "display_data"
    },
    {
     "data": {
      "text/plain": [
       "count    250000.000000\n",
       "mean       -348.329567\n",
       "std         532.962789\n",
       "min        -999.000000\n",
       "25%        -999.000000\n",
       "50%          38.960000\n",
       "75%          75.349000\n",
       "max        1120.573000\n",
       "Name: PRI_jet_leading_pt, dtype: float64"
      ]
     },
     "metadata": {},
     "output_type": "display_data"
    },
    {
     "data": {
      "text/plain": [
       "array([   30.   ,    30.001,    30.002, ...,   755.235,   760.846,\n",
       "        1120.573])"
      ]
     },
     "metadata": {},
     "output_type": "display_data"
    },
    {
     "data": {
      "text/plain": [
       "count    250000.000000\n",
       "mean         84.822105\n",
       "std          47.002359\n",
       "min          30.000000\n",
       "25%          57.439000\n",
       "50%          84.822105\n",
       "75%          84.822105\n",
       "max        1120.573000\n",
       "Name: PRI_jet_leading_pt, dtype: float64"
      ]
     },
     "metadata": {},
     "output_type": "display_data"
    },
    {
     "data": {
      "image/png": "[encoded data removed]",
      "text/plain": [
       "<matplotlib.figure.Figure at 0x16001501d0>"
      ]
     },
     "metadata": {},
     "output_type": "display_data"
    },
    {
     "name": "stdout",
     "output_type": "stream",
     "text": [
      "=============================================================\n"
     ]
    },
    {
     "data": {
      "text/plain": [
       "array([-999.   ,   -4.499,   -4.497, ...,    4.491,    4.492,    4.499])"
      ]
     },
     "metadata": {},
     "output_type": "display_data"
    },
    {
     "data": {
      "text/plain": [
       "count    250000.000000\n",
       "mean       -399.254314\n",
       "std         489.338286\n",
       "min        -999.000000\n",
       "25%        -999.000000\n",
       "50%          -1.872000\n",
       "75%           0.433000\n",
       "max           4.499000\n",
       "Name: PRI_jet_leading_eta, dtype: float64"
      ]
     },
     "metadata": {},
     "output_type": "display_data"
    },
    {
     "data": {
      "text/plain": [
       "array([-4.499, -4.497, -4.496, ...,  4.491,  4.492,  4.499])"
      ]
     },
     "metadata": {},
     "output_type": "display_data"
    },
    {
     "data": {
      "text/plain": [
       "count    250000.000000\n",
       "mean         -0.003275\n",
       "std           1.382702\n",
       "min          -4.499000\n",
       "25%          -0.433000\n",
       "50%          -0.003275\n",
       "75%           0.433000\n",
       "max           4.499000\n",
       "Name: PRI_jet_leading_eta, dtype: float64"
      ]
     },
     "metadata": {},
     "output_type": "display_data"
    },
    {
     "data": {
      "image/png": "[encoded data removed]",
      "text/plain": [
       "<matplotlib.figure.Figure at 0x16581f0c88>"
      ]
     },
     "metadata": {},
     "output_type": "display_data"
    },
    {
     "name": "stdout",
     "output_type": "stream",
     "text": [
      "=============================================================\n"
     ]
    },
    {
     "data": {
      "text/plain": [
       "array([-999.   ,   -3.142,   -3.141, ...,    3.139,    3.14 ,    3.141])"
      ]
     },
     "metadata": {},
     "output_type": "display_data"
    },
    {
     "data": {
      "text/plain": [
       "count    250000.000000\n",
       "mean       -399.259788\n",
       "std         489.333883\n",
       "min        -999.000000\n",
       "25%        -999.000000\n",
       "50%          -2.093000\n",
       "75%           0.503000\n",
       "max           3.141000\n",
       "Name: PRI_jet_leading_phi, dtype: float64"
      ]
     },
     "metadata": {},
     "output_type": "display_data"
    },
    {
     "data": {
      "text/plain": [
       "array([-3.142, -3.141, -3.14 , ...,  3.139,  3.14 ,  3.141])"
      ]
     },
     "metadata": {},
     "output_type": "display_data"
    },
    {
     "data": {
      "text/plain": [
       "count    250000.000000\n",
       "mean         -0.012393\n",
       "std           1.405048\n",
       "min          -3.142000\n",
       "25%          -0.556000\n",
       "50%          -0.012393\n",
       "75%           0.503000\n",
       "max           3.141000\n",
       "Name: PRI_jet_leading_phi, dtype: float64"
      ]
     },
     "metadata": {},
     "output_type": "display_data"
    },
    {
     "data": {
      "image/png": "[encoded data removed]",
      "text/plain": [
       "<matplotlib.figure.Figure at 0x1653d39588>"
      ]
     },
     "metadata": {},
     "output_type": "display_data"
    },
    {
     "name": "stdout",
     "output_type": "stream",
     "text": [
      "=============================================================\n"
     ]
    },
    {
     "data": {
      "text/plain": [
       "array([-999.   ,   30.   ,   30.001, ...,  569.834,  706.672,  721.456])"
      ]
     },
     "metadata": {},
     "output_type": "display_data"
    },
    {
     "data": {
      "text/plain": [
       "count    250000.000000\n",
       "mean       -692.381204\n",
       "std         479.875496\n",
       "min        -999.000000\n",
       "25%        -999.000000\n",
       "50%        -999.000000\n",
       "75%          33.703000\n",
       "max         721.456000\n",
       "Name: PRI_jet_subleading_pt, dtype: float64"
      ]
     },
     "metadata": {},
     "output_type": "display_data"
    },
    {
     "data": {
      "text/plain": [
       "array([  30.   ,   30.001,   30.002, ...,  569.834,  706.672,  721.456])"
      ]
     },
     "metadata": {},
     "output_type": "display_data"
    },
    {
     "data": {
      "text/plain": [
       "count    250000.000000\n",
       "mean         57.679474\n",
       "std          17.229894\n",
       "min          30.000000\n",
       "25%          57.679474\n",
       "50%          57.679474\n",
       "75%          57.679474\n",
       "max         721.456000\n",
       "Name: PRI_jet_subleading_pt, dtype: float64"
      ]
     },
     "metadata": {},
     "output_type": "display_data"
    },
    {
     "data": {
      "image/png": "[encoded data removed]",
      "text/plain": [
       "<matplotlib.figure.Figure at 0x1654304390>"
      ]
     },
     "metadata": {},
     "output_type": "display_data"
    },
    {
     "name": "stdout",
     "output_type": "stream",
     "text": [
      "=============================================================\n"
     ]
    },
    {
     "data": {
      "text/plain": [
       "array([-999.   ,   -4.5  ,   -4.498, ...,    4.497,    4.498,    4.5  ])"
      ]
     },
     "metadata": {},
     "output_type": "display_data"
    },
    {
     "data": {
      "text/plain": [
       "count    250000.000000\n",
       "mean       -709.121609\n",
       "std         453.384624\n",
       "min        -999.000000\n",
       "25%        -999.000000\n",
       "50%        -999.000000\n",
       "75%          -2.457000\n",
       "max           4.500000\n",
       "Name: PRI_jet_subleading_eta, dtype: float64"
      ]
     },
     "metadata": {},
     "output_type": "display_data"
    },
    {
     "data": {
      "text/plain": [
       "array([-4.5  , -4.498, -4.497, ...,  4.497,  4.498,  4.5  ])"
      ]
     },
     "metadata": {},
     "output_type": "display_data"
    },
    {
     "data": {
      "text/plain": [
       "count    250000.000000\n",
       "mean         -0.011845\n",
       "std           1.094446\n",
       "min          -4.500000\n",
       "25%          -0.011845\n",
       "50%          -0.011845\n",
       "75%          -0.011845\n",
       "max           4.500000\n",
       "Name: PRI_jet_subleading_eta, dtype: float64"
      ]
     },
     "metadata": {},
     "output_type": "display_data"
    },
    {
     "data": {
      "image/png": "[encoded data removed]",
      "text/plain": [
       "<matplotlib.figure.Figure at 0x1654122a90>"
      ]
     },
     "metadata": {},
     "output_type": "display_data"
    },
    {
     "name": "stdout",
     "output_type": "stream",
     "text": [
      "=============================================================\n"
     ]
    },
    {
     "data": {
      "text/plain": [
       "array([-999.   ,   -3.142,   -3.141, ...,    3.14 ,    3.141,    3.142])"
      ]
     },
     "metadata": {},
     "output_type": "display_data"
    },
    {
     "data": {
      "text/plain": [
       "count    250000.000000\n",
       "mean       -709.118631\n",
       "std         453.389017\n",
       "min        -999.000000\n",
       "25%        -999.000000\n",
       "50%        -999.000000\n",
       "75%          -2.275000\n",
       "max           3.142000\n",
       "Name: PRI_jet_subleading_phi, dtype: float64"
      ]
     },
     "metadata": {},
     "output_type": "display_data"
    },
    {
     "data": {
      "text/plain": [
       "array([-3.142, -3.141, -3.14 , ...,  3.14 ,  3.141,  3.142])"
      ]
     },
     "metadata": {},
     "output_type": "display_data"
    },
    {
     "data": {
      "text/plain": [
       "count    250000.000000\n",
       "mean         -0.001582\n",
       "std           0.978743\n",
       "min          -3.142000\n",
       "25%          -0.001582\n",
       "50%          -0.001582\n",
       "75%          -0.001582\n",
       "max           3.142000\n",
       "Name: PRI_jet_subleading_phi, dtype: float64"
      ]
     },
     "metadata": {},
     "output_type": "display_data"
    },
    {
     "data": {
      "image/png": "[encoded data removed]",
      "text/plain": [
       "<matplotlib.figure.Figure at 0x16537b7470>"
      ]
     },
     "metadata": {},
     "output_type": "display_data"
    },
    {
     "name": "stdout",
     "output_type": "stream",
     "text": [
      "=============================================================\n"
     ]
    },
    {
     "data": {
      "text/plain": [
       "array([   -0.   ,    30.   ,    30.001, ...,  1575.861,  1606.872,\n",
       "        1633.433])"
      ]
     },
     "metadata": {},
     "output_type": "display_data"
    },
    {
     "data": {
      "text/plain": [
       "count    250000.000000\n",
       "mean         73.064591\n",
       "std          98.015662\n",
       "min           0.000000\n",
       "25%           0.000000\n",
       "50%          40.512500\n",
       "75%         109.933750\n",
       "max        1633.433000\n",
       "Name: PRI_jet_all_pt, dtype: float64"
      ]
     },
     "metadata": {},
     "output_type": "display_data"
    },
    {
     "data": {
      "text/plain": [
       "array([   -0.   ,    30.   ,    30.001, ...,  1575.861,  1606.872,\n",
       "        1633.433])"
      ]
     },
     "metadata": {},
     "output_type": "display_data"
    },
    {
     "data": {
      "text/plain": [
       "count    250000.000000\n",
       "mean         73.064591\n",
       "std          98.015662\n",
       "min           0.000000\n",
       "25%           0.000000\n",
       "50%          40.512500\n",
       "75%         109.933750\n",
       "max        1633.433000\n",
       "Name: PRI_jet_all_pt, dtype: float64"
      ]
     },
     "metadata": {},
     "output_type": "display_data"
    },
    {
     "data": {
      "image/png": "[encoded data removed]",
      "text/plain": [
       "<matplotlib.figure.Figure at 0x1657d42b00>"
      ]
     },
     "metadata": {},
     "output_type": "display_data"
    }
   ],
   "source": [
    "\"\"\"\n",
    "['DER_mass_MMC', 'DER_deltaeta_jet_jet', 'DER_mass_jet_jet', 'DER_prodeta_jet_jet',\n",
    " 'DER_lep_eta_centrality','PRI_jet_leading_pt', 'PRI_jet_leading_eta', 'PRI_jet_leading_phi',\n",
    " 'PRI_jet_subleading_pt', 'PRI_jet_subleading_eta', 'PRI_jet_subleading_phi']\n",
    " \"\"\"\n",
    "\n",
    "# 'EventId'                     - ignore as feature \n",
    "# 'DER_mass_MMC'                - contains undefined values (-999) - needs to be handled (impute or remove)\n",
    "# 'DER_mass_transverse_met_lep' - no undefined values\n",
    "# 'DER_mass_vis'                - no undefined values\n",
    "# 'DER_pt_h'                    - no undefined values\n",
    "# 'DER_deltaeta_jet_jet'        - contains undefined values (-999) - needs to be handled (impute or remove)\n",
    "# 'DER_mass_jet_jet'            - contains undefined values (-999) - needs to be handled (impute or remove)\n",
    "# 'DER_prodeta_jet_jet'         - contains undefined values (-999) - needs to be handled (impute or remove)\n",
    "# 'DER_deltar_tau_lep'          - no undefined values\n",
    "# 'DER_pt_tot'                  - no undefined values\n",
    "# 'DER_sum_pt'                  - no undefined values\n",
    "# 'DER_pt_ratio_lep_tau'        - no undefined values\n",
    "# 'DER_met_phi_centrality'      - no undefined values\n",
    "# 'DER_lep_eta_centrality'      - contains undefined values (-999) - needs to be handled (impute or remove)\n",
    "# 'PRI_tau_pt'                  - no undefined values\n",
    "# 'PRI_tau_eta'                 - no undefined values\n",
    "# 'PRI_tau_phi'                 - no undefined values\n",
    "# 'PRI_lep_pt'                  - no undefined values\n",
    "# 'PRI_lep_eta'                 - no undefined values\n",
    "# 'PRI_lep_phi'                 - no undefined values\n",
    "# 'PRI_met'                     - no undefined values\n",
    "# 'PRI_met_phi'                 - no undefined values\n",
    "# 'PRI_met_sumet'               - no undefined values\n",
    "# 'PRI_jet_num'                 - categorical values (1, 2, 3, 4)\n",
    "# 'PRI_jet_leading_pt'          - contains undefined values (-999) - needs to be handled (impute or remove)\n",
    "# 'PRI_jet_leading_eta'         - contains undefined values (-999) - needs to be handled (impute or remove)\n",
    "# 'PRI_jet_leading_phi'         - contains undefined values (-999) - needs to be handled (impute or remove)\n",
    "# 'PRI_jet_subleading_pt'       - contains undefined values (-999) - needs to be handled (impute or remove)\n",
    "# 'PRI_jet_subleading_eta'      - contains undefined values (-999) - needs to be handled (impute or remove)\n",
    "# 'PRI_jet_subleading_phi'      - contains undefined values (-999) - needs to be handled (impute or remove)\n",
    "# 'PRI_jet_all_pt'              - no undefined values\n",
    "\n",
    "num_features = td.shape[1]\n",
    "\n",
    "mean_of_all_features = {}\n",
    "std_of_all_features = {}\n",
    "\n",
    "\n",
    "features_with_undef_values = ['DER_mass_MMC', 'DER_deltaeta_jet_jet', 'DER_mass_jet_jet', 'DER_prodeta_jet_jet',\n",
    " 'DER_lep_eta_centrality','PRI_jet_leading_pt', 'PRI_jet_leading_eta', 'PRI_jet_leading_phi',\n",
    " 'PRI_jet_subleading_pt', 'PRI_jet_subleading_eta', 'PRI_jet_subleading_phi']\n",
    "\n",
    "print (\"Plotting distribution of features\")\n",
    "for f in np.arange(1,num_features-2):\n",
    "    plt.figure( figsize=(12,6))\n",
    "    plt.subplot(1,2,1)\n",
    "\n",
    "    print ('=============================================================')\n",
    "    \n",
    "    feature_name = list(td)[f]\n",
    "    feature_values = td[feature_name]\n",
    "    \n",
    "    display(np.sort(feature_values.unique()))\n",
    "    display(feature_values.describe(include='all'))\n",
    "    \n",
    "    plt.hist([feature_values[td.Label == 's'], feature_values[td.Label == 'b']], \\\n",
    "                 bins=100, alpha=0.5, stacked=True, label=feature_name);\n",
    "    plt.legend(loc='upper right')\n",
    "    plt.yscale('log')\n",
    "\n",
    "    if feature_name in features_with_undef_values:\n",
    "        mean = np.mean(feature_values[feature_values != UNDEF_VALUE])\n",
    "        std = np.std(feature_values[feature_values != UNDEF_VALUE])\n",
    "        feature_values[feature_values == UNDEF_VALUE] = mean\n",
    "    else:\n",
    "        mean = np.mean(td[feature_name])\n",
    "        std = np.std(td[feature_name])\n",
    "\n",
    "    mean_of_all_features[feature_name] = mean\n",
    "    std_of_all_features[feature_name] = std\n",
    "    \n",
    "    display(np.sort(feature_values.unique()))\n",
    "    display(feature_values.describe(include='all'))\n",
    "    \n",
    "    if feature_name != 'PRI_jet_num':\n",
    "        feature_values = (feature_values - mean)/(std + 1e-10)\n",
    "        td[feature_name] = feature_values\n",
    "        \n",
    "\n",
    "    plt.subplot(1,2,2)\n",
    "    plt.hist([feature_values[td.Label == 's'], feature_values[td.Label == 'b']], \\\n",
    "                 bins=100, alpha=0.5, stacked=True, label=feature_name);\n",
    "    plt.legend(loc='upper right')\n",
    "    plt.yscale('log')\n",
    "    \n",
    "    plt.subplots_adjust(wspace=0.5)\n",
    "    plt.show()\n",
    "\n",
    "# TODO: How to clip large values (break high bars with ~)\n",
    "# TODO: Handle categorical data"
   ]
  },
  {
   "cell_type": "code",
   "execution_count": 130,
   "metadata": {},
   "outputs": [
    {
     "data": {
      "text/html": [
       "<div>\n",
       "<style>\n",
       "    .dataframe thead tr:only-child th {\n",
       "        text-align: right;\n",
       "    }\n",
       "\n",
       "    .dataframe thead th {\n",
       "        text-align: left;\n",
       "    }\n",
       "\n",
       "    .dataframe tbody tr th {\n",
       "        vertical-align: top;\n",
       "    }\n",
       "</style>\n",
       "<table border=\"1\" class=\"dataframe\">\n",
       "  <thead>\n",
       "    <tr style=\"text-align: right;\">\n",
       "      <th></th>\n",
       "      <th>EventId</th>\n",
       "      <th>DER_mass_MMC</th>\n",
       "      <th>DER_mass_transverse_met_lep</th>\n",
       "      <th>DER_mass_vis</th>\n",
       "      <th>DER_pt_h</th>\n",
       "      <th>DER_deltaeta_jet_jet</th>\n",
       "      <th>DER_mass_jet_jet</th>\n",
       "      <th>DER_prodeta_jet_jet</th>\n",
       "      <th>DER_deltar_tau_lep</th>\n",
       "      <th>DER_pt_tot</th>\n",
       "      <th>...</th>\n",
       "      <th>PRI_met_sumet</th>\n",
       "      <th>PRI_jet_num</th>\n",
       "      <th>PRI_jet_leading_pt</th>\n",
       "      <th>PRI_jet_leading_eta</th>\n",
       "      <th>PRI_jet_leading_phi</th>\n",
       "      <th>PRI_jet_subleading_pt</th>\n",
       "      <th>PRI_jet_subleading_eta</th>\n",
       "      <th>PRI_jet_subleading_phi</th>\n",
       "      <th>PRI_jet_all_pt</th>\n",
       "      <th>Weight</th>\n",
       "    </tr>\n",
       "  </thead>\n",
       "  <tbody>\n",
       "    <tr>\n",
       "      <th>count</th>\n",
       "      <td>250000.000000</td>\n",
       "      <td>2.500000e+05</td>\n",
       "      <td>2.500000e+05</td>\n",
       "      <td>2.500000e+05</td>\n",
       "      <td>2.500000e+05</td>\n",
       "      <td>2.500000e+05</td>\n",
       "      <td>2.500000e+05</td>\n",
       "      <td>2.500000e+05</td>\n",
       "      <td>2.500000e+05</td>\n",
       "      <td>2.500000e+05</td>\n",
       "      <td>...</td>\n",
       "      <td>2.500000e+05</td>\n",
       "      <td>250000.000000</td>\n",
       "      <td>2.500000e+05</td>\n",
       "      <td>2.500000e+05</td>\n",
       "      <td>2.500000e+05</td>\n",
       "      <td>2.500000e+05</td>\n",
       "      <td>2.500000e+05</td>\n",
       "      <td>2.500000e+05</td>\n",
       "      <td>2.500000e+05</td>\n",
       "      <td>250000.000000</td>\n",
       "    </tr>\n",
       "    <tr>\n",
       "      <th>mean</th>\n",
       "      <td>224999.500000</td>\n",
       "      <td>3.010143e-16</td>\n",
       "      <td>4.305889e-17</td>\n",
       "      <td>-3.427658e-17</td>\n",
       "      <td>4.342837e-17</td>\n",
       "      <td>7.466383e-17</td>\n",
       "      <td>-1.202238e-17</td>\n",
       "      <td>-1.475087e-17</td>\n",
       "      <td>-5.133529e-16</td>\n",
       "      <td>-4.547474e-16</td>\n",
       "      <td>...</td>\n",
       "      <td>-4.516210e-16</td>\n",
       "      <td>0.979176</td>\n",
       "      <td>2.049063e-16</td>\n",
       "      <td>-2.344791e-18</td>\n",
       "      <td>1.568878e-17</td>\n",
       "      <td>1.875833e-17</td>\n",
       "      <td>6.181722e-19</td>\n",
       "      <td>-2.970069e-18</td>\n",
       "      <td>-2.444835e-16</td>\n",
       "      <td>1.646767</td>\n",
       "    </tr>\n",
       "    <tr>\n",
       "      <th>std</th>\n",
       "      <td>72168.927986</td>\n",
       "      <td>9.206234e-01</td>\n",
       "      <td>1.000002e+00</td>\n",
       "      <td>1.000002e+00</td>\n",
       "      <td>1.000002e+00</td>\n",
       "      <td>5.386772e-01</td>\n",
       "      <td>5.386772e-01</td>\n",
       "      <td>5.386772e-01</td>\n",
       "      <td>1.000002e+00</td>\n",
       "      <td>1.000002e+00</td>\n",
       "      <td>...</td>\n",
       "      <td>1.000002e+00</td>\n",
       "      <td>0.977426</td>\n",
       "      <td>7.748228e-01</td>\n",
       "      <td>7.748228e-01</td>\n",
       "      <td>7.748228e-01</td>\n",
       "      <td>5.386772e-01</td>\n",
       "      <td>5.386772e-01</td>\n",
       "      <td>5.386772e-01</td>\n",
       "      <td>1.000002e+00</td>\n",
       "      <td>1.875103</td>\n",
       "    </tr>\n",
       "    <tr>\n",
       "      <th>min</th>\n",
       "      <td>100000.000000</td>\n",
       "      <td>-1.968908e+00</td>\n",
       "      <td>-1.393127e+00</td>\n",
       "      <td>-1.833346e+00</td>\n",
       "      <td>-9.095194e-01</td>\n",
       "      <td>-1.379701e+00</td>\n",
       "      <td>-9.006398e-01</td>\n",
       "      <td>-4.811018e+00</td>\n",
       "      <td>-2.765453e+00</td>\n",
       "      <td>-8.493221e-01</td>\n",
       "      <td>...</td>\n",
       "      <td>-1.550358e+00</td>\n",
       "      <td>0.000000</td>\n",
       "      <td>-9.037295e-01</td>\n",
       "      <td>-2.519263e+00</td>\n",
       "      <td>-1.725842e+00</td>\n",
       "      <td>-8.653740e-01</td>\n",
       "      <td>-2.209033e+00</td>\n",
       "      <td>-1.728413e+00</td>\n",
       "      <td>-7.454394e-01</td>\n",
       "      <td>0.001502</td>\n",
       "    </tr>\n",
       "    <tr>\n",
       "      <th>25%</th>\n",
       "      <td>162499.750000</td>\n",
       "      <td>-4.571454e-01</td>\n",
       "      <td>-8.487474e-01</td>\n",
       "      <td>-5.337736e-01</td>\n",
       "      <td>-6.885057e-01</td>\n",
       "      <td>0.000000e+00</td>\n",
       "      <td>0.000000e+00</td>\n",
       "      <td>0.000000e+00</td>\n",
       "      <td>-7.192400e-01</td>\n",
       "      <td>-7.217711e-01</td>\n",
       "      <td>...</td>\n",
       "      <td>-6.860094e-01</td>\n",
       "      <td>0.000000</td>\n",
       "      <td>-4.514040e-01</td>\n",
       "      <td>-2.408046e-01</td>\n",
       "      <td>-2.997757e-01</td>\n",
       "      <td>0.000000e+00</td>\n",
       "      <td>0.000000e+00</td>\n",
       "      <td>0.000000e+00</td>\n",
       "      <td>-7.454394e-01</td>\n",
       "      <td>0.018636</td>\n",
       "    </tr>\n",
       "    <tr>\n",
       "      <th>50%</th>\n",
       "      <td>224999.500000</td>\n",
       "      <td>-3.316918e-02</td>\n",
       "      <td>-7.683784e-02</td>\n",
       "      <td>-1.819798e-01</td>\n",
       "      <td>-3.052124e-01</td>\n",
       "      <td>0.000000e+00</td>\n",
       "      <td>0.000000e+00</td>\n",
       "      <td>0.000000e+00</td>\n",
       "      <td>1.512310e-01</td>\n",
       "      <td>-2.963992e-01</td>\n",
       "      <td>...</td>\n",
       "      <td>-2.376155e-01</td>\n",
       "      <td>1.000000</td>\n",
       "      <td>0.000000e+00</td>\n",
       "      <td>0.000000e+00</td>\n",
       "      <td>0.000000e+00</td>\n",
       "      <td>0.000000e+00</td>\n",
       "      <td>0.000000e+00</td>\n",
       "      <td>0.000000e+00</td>\n",
       "      <td>-3.321118e-01</td>\n",
       "      <td>1.156188</td>\n",
       "    </tr>\n",
       "    <tr>\n",
       "      <th>75%</th>\n",
       "      <td>287499.250000</td>\n",
       "      <td>1.526706e-01</td>\n",
       "      <td>6.891585e-01</td>\n",
       "      <td>2.713053e-01</td>\n",
       "      <td>3.341898e-01</td>\n",
       "      <td>0.000000e+00</td>\n",
       "      <td>0.000000e+00</td>\n",
       "      <td>0.000000e+00</td>\n",
       "      <td>7.509171e-01</td>\n",
       "      <td>3.894173e-01</td>\n",
       "      <td>...</td>\n",
       "      <td>4.235762e-01</td>\n",
       "      <td>2.000000</td>\n",
       "      <td>0.000000e+00</td>\n",
       "      <td>2.444745e-01</td>\n",
       "      <td>2.842168e-01</td>\n",
       "      <td>0.000000e+00</td>\n",
       "      <td>0.000000e+00</td>\n",
       "      <td>0.000000e+00</td>\n",
       "      <td>3.761565e-01</td>\n",
       "      <td>2.404128</td>\n",
       "    </tr>\n",
       "    <tr>\n",
       "      <th>max</th>\n",
       "      <td>349999.000000</td>\n",
       "      <td>1.867722e+01</td>\n",
       "      <td>1.813095e+01</td>\n",
       "      <td>3.106079e+01</td>\n",
       "      <td>4.362703e+01</td>\n",
       "      <td>3.500870e+00</td>\n",
       "      <td>1.157464e+01</td>\n",
       "      <td>4.885614e+00</td>\n",
       "      <td>4.228969e+00</td>\n",
       "      <td>1.264322e+02</td>\n",
       "      <td>...</td>\n",
       "      <td>1.418332e+01</td>\n",
       "      <td>3.000000</td>\n",
       "      <td>1.707411e+01</td>\n",
       "      <td>2.522933e+00</td>\n",
       "      <td>1.738959e+00</td>\n",
       "      <td>2.075238e+01</td>\n",
       "      <td>2.220693e+00</td>\n",
       "      <td>1.730155e+00</td>\n",
       "      <td>1.591961e+01</td>\n",
       "      <td>7.822543</td>\n",
       "    </tr>\n",
       "  </tbody>\n",
       "</table>\n",
       "<p>8 rows × 32 columns</p>\n",
       "</div>"
      ],
      "text/plain": [
       "             EventId  DER_mass_MMC  DER_mass_transverse_met_lep  DER_mass_vis  \\\n",
       "count  250000.000000  2.500000e+05                 2.500000e+05  2.500000e+05   \n",
       "mean   224999.500000  3.010143e-16                 4.305889e-17 -3.427658e-17   \n",
       "std     72168.927986  9.206234e-01                 1.000002e+00  1.000002e+00   \n",
       "min    100000.000000 -1.968908e+00                -1.393127e+00 -1.833346e+00   \n",
       "25%    162499.750000 -4.571454e-01                -8.487474e-01 -5.337736e-01   \n",
       "50%    224999.500000 -3.316918e-02                -7.683784e-02 -1.819798e-01   \n",
       "75%    287499.250000  1.526706e-01                 6.891585e-01  2.713053e-01   \n",
       "max    349999.000000  1.867722e+01                 1.813095e+01  3.106079e+01   \n",
       "\n",
       "           DER_pt_h  DER_deltaeta_jet_jet  DER_mass_jet_jet  \\\n",
       "count  2.500000e+05          2.500000e+05      2.500000e+05   \n",
       "mean   4.342837e-17          7.466383e-17     -1.202238e-17   \n",
       "std    1.000002e+00          5.386772e-01      5.386772e-01   \n",
       "min   -9.095194e-01         -1.379701e+00     -9.006398e-01   \n",
       "25%   -6.885057e-01          0.000000e+00      0.000000e+00   \n",
       "50%   -3.052124e-01          0.000000e+00      0.000000e+00   \n",
       "75%    3.341898e-01          0.000000e+00      0.000000e+00   \n",
       "max    4.362703e+01          3.500870e+00      1.157464e+01   \n",
       "\n",
       "       DER_prodeta_jet_jet  DER_deltar_tau_lep    DER_pt_tot      ...        \\\n",
       "count         2.500000e+05        2.500000e+05  2.500000e+05      ...         \n",
       "mean         -1.475087e-17       -5.133529e-16 -4.547474e-16      ...         \n",
       "std           5.386772e-01        1.000002e+00  1.000002e+00      ...         \n",
       "min          -4.811018e+00       -2.765453e+00 -8.493221e-01      ...         \n",
       "25%           0.000000e+00       -7.192400e-01 -7.217711e-01      ...         \n",
       "50%           0.000000e+00        1.512310e-01 -2.963992e-01      ...         \n",
       "75%           0.000000e+00        7.509171e-01  3.894173e-01      ...         \n",
       "max           4.885614e+00        4.228969e+00  1.264322e+02      ...         \n",
       "\n",
       "       PRI_met_sumet    PRI_jet_num  PRI_jet_leading_pt  PRI_jet_leading_eta  \\\n",
       "count   2.500000e+05  250000.000000        2.500000e+05         2.500000e+05   \n",
       "mean   -4.516210e-16       0.979176        2.049063e-16        -2.344791e-18   \n",
       "std     1.000002e+00       0.977426        7.748228e-01         7.748228e-01   \n",
       "min    -1.550358e+00       0.000000       -9.037295e-01        -2.519263e+00   \n",
       "25%    -6.860094e-01       0.000000       -4.514040e-01        -2.408046e-01   \n",
       "50%    -2.376155e-01       1.000000        0.000000e+00         0.000000e+00   \n",
       "75%     4.235762e-01       2.000000        0.000000e+00         2.444745e-01   \n",
       "max     1.418332e+01       3.000000        1.707411e+01         2.522933e+00   \n",
       "\n",
       "       PRI_jet_leading_phi  PRI_jet_subleading_pt  PRI_jet_subleading_eta  \\\n",
       "count         2.500000e+05           2.500000e+05            2.500000e+05   \n",
       "mean          1.568878e-17           1.875833e-17            6.181722e-19   \n",
       "std           7.748228e-01           5.386772e-01            5.386772e-01   \n",
       "min          -1.725842e+00          -8.653740e-01           -2.209033e+00   \n",
       "25%          -2.997757e-01           0.000000e+00            0.000000e+00   \n",
       "50%           0.000000e+00           0.000000e+00            0.000000e+00   \n",
       "75%           2.842168e-01           0.000000e+00            0.000000e+00   \n",
       "max           1.738959e+00           2.075238e+01            2.220693e+00   \n",
       "\n",
       "       PRI_jet_subleading_phi  PRI_jet_all_pt         Weight  \n",
       "count            2.500000e+05    2.500000e+05  250000.000000  \n",
       "mean            -2.970069e-18   -2.444835e-16       1.646767  \n",
       "std              5.386772e-01    1.000002e+00       1.875103  \n",
       "min             -1.728413e+00   -7.454394e-01       0.001502  \n",
       "25%              0.000000e+00   -7.454394e-01       0.018636  \n",
       "50%              0.000000e+00   -3.321118e-01       1.156188  \n",
       "75%              0.000000e+00    3.761565e-01       2.404128  \n",
       "max              1.730155e+00    1.591961e+01       7.822543  \n",
       "\n",
       "[8 rows x 32 columns]"
      ]
     },
     "metadata": {},
     "output_type": "display_data"
    }
   ],
   "source": [
    "# Step 1: Split data into Training, Cross Validation, Test Data\n",
    "# Step 2: Train NN (3 layers)\n",
    "# Use weights to find results of Test data\n",
    "\n",
    "X = [[0., 0.], [1., 1.]]\n",
    "y = [0, 1]\n",
    "clf = MLPClassifier(solver='lbfgs', alpha=1e-5, hidden_layer_sizes=(5, 2), random_state=1)\n",
    "clf.fit(X, y)          \n",
    "\n",
    "display(td.describe())"
   ]
  },
  {
   "cell_type": "code",
   "execution_count": 135,
   "metadata": {},
   "outputs": [
    {
     "name": "stdout",
     "output_type": "stream",
     "text": [
      "Iteration 1, loss = 0.50284368\n",
      "Iteration 2, loss = 0.42427848\n",
      "Iteration 3, loss = 0.41730486\n",
      "Iteration 4, loss = 0.41469018\n",
      "Iteration 5, loss = 0.41302986\n",
      "Iteration 6, loss = 0.41192105\n",
      "Iteration 7, loss = 0.41104310\n",
      "Iteration 8, loss = 0.41029989\n",
      "Iteration 9, loss = 0.41010662\n",
      "Iteration 10, loss = 0.40993817\n",
      "Iteration 11, loss = 0.40931040\n",
      "Iteration 12, loss = 0.40904165\n",
      "Iteration 13, loss = 0.40884185\n",
      "Iteration 14, loss = 0.40907359\n",
      "Iteration 15, loss = 0.40848600\n",
      "Iteration 16, loss = 0.40861098\n",
      "Iteration 17, loss = 0.40863046\n",
      "Iteration 18, loss = 0.40806243\n",
      "Iteration 19, loss = 0.40829512\n",
      "Iteration 20, loss = 0.40808568\n",
      "Iteration 21, loss = 0.40827577\n",
      "Training loss did not improve more than tol=0.000100 for two consecutive epochs. Stopping.\n"
     ]
    },
    {
     "data": {
      "text/plain": [
       "0.83436399999999999"
      ]
     },
     "execution_count": 135,
     "metadata": {},
     "output_type": "execute_result"
    }
   ],
   "source": [
    "X = td.iloc[:, 1:-2]\n",
    "y = td.iloc[:,-1] == 's'\n",
    "\n",
    "clf = MLPClassifier(solver='adam', alpha=1, hidden_layer_sizes=(100,100,10,10), \\\n",
    "                    max_iter=200, random_state=1, verbose=True, warm_start=True)\n",
    "clf.fit(X, y)\n",
    "clf.score(X,y)"
   ]
  },
  {
   "cell_type": "code",
   "execution_count": 138,
   "metadata": {},
   "outputs": [
    {
     "name": "stdout",
     "output_type": "stream",
     "text": [
      "[[ 0.63078254  0.36921746]\n",
      " [ 0.81422957  0.18577043]\n",
      " [ 0.81604356  0.18395644]\n",
      " ..., \n",
      " [ 0.44857585  0.55142415]\n",
      " [ 0.33313254  0.66686746]\n",
      " [ 0.92205253  0.07794747]]\n",
      "[False False False ...,  True  True False]\n",
      "[ 0.00101745  0.00139716  0.00256405 ...,  0.98924542  0.98944638\n",
      "  0.98983067]\n",
      "[ 0.00101745  0.00139716  0.00256405 ...,  0.98924542  0.98944638\n",
      "  0.98983067]\n"
     ]
    },
    {
     "data": {
      "text/plain": [
       "array([ 0.834364])"
      ]
     },
     "execution_count": 138,
     "metadata": {},
     "output_type": "execute_result"
    }
   ],
   "source": [
    "print ('%s' % (clf.predict_proba(X)))\n",
    "print ('%s' % (clf.predict(X)))\n",
    "\n",
    "rankorder = (clf.predict_proba(X))[:,1]\n",
    "\n",
    "print(np.sort(rankorder))\n",
    "print(np.unique(rankorder))\n",
    "\n",
    "#plt.figure(figsize=(15,6))\n",
    "#plt.subplot(111)\n",
    "#plt.hist(clf.predict_proba(X))\n",
    "#plt.show()\n",
    "\n",
    "np.sum(clf.predict(X) == y) / y.shape\n",
    "\n",
    "#rs = pd.read_csv('./data/random_submission.csv')\n",
    "#display(rs.describe())\n",
    "#display(np.sort(rs['RankOrder']))\n"
   ]
  },
  {
   "cell_type": "code",
   "execution_count": 139,
   "metadata": {},
   "outputs": [
    {
     "data": {
      "text/plain": [
       "array([ True, False, False, ...,  True, False, False], dtype=bool)"
      ]
     },
     "execution_count": 139,
     "metadata": {},
     "output_type": "execute_result"
    }
   ],
   "source": [
    "test_data = pd.read_csv('./data/test.csv')\n",
    "\n",
    "for f in np.arange(1,num_features-2):\n",
    "    feature_name = list(test_data)[f]\n",
    "    feature_values = test_data[feature_name]\n",
    "    \n",
    "    if feature_name != 'PRI_jet_num':\n",
    "        mean = mean_of_all_features[feature_name]\n",
    "        std = std_of_all_features[feature_name]\n",
    "        \n",
    "        test_data[test_data[feature_name] == UNDEF_VALUE] = mean\n",
    "        test_data[feature_name] = (test_data[feature_name] - mean)/(std + 1e-10)\n",
    "        \n",
    "X = test_data.iloc[:, 1:]\n",
    "clf.predict(X)\n"
   ]
  },
  {
   "cell_type": "code",
   "execution_count": null,
   "metadata": {},
   "outputs": [],
   "source": []
  }
 ],
 "metadata": {
  "kernelspec": {
   "display_name": "Python 3",
   "language": "python",
   "name": "python3"
  },
  "language_info": {
   "codemirror_mode": {
    "name": "ipython",
    "version": 3
   },
   "file_extension": ".py",
   "mimetype": "text/x-python",
   "name": "python",
   "nbconvert_exporter": "python",
   "pygments_lexer": "ipython3",
   "version": "3.5.4"
  }
 },
 "nbformat": 4,
 "nbformat_minor": 2
}
