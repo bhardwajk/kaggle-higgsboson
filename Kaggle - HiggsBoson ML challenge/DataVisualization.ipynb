{
 "cells": [
  {
   "cell_type": "code",
   "execution_count": 38,
   "metadata": {},
   "outputs": [
    {
     "name": "stdout",
     "output_type": "stream",
     "text": [
      "Hello World .. \n",
      "['EventId', 'DER_mass_MMC', 'DER_mass_transverse_met_lep', 'DER_mass_vis', 'DER_pt_h', 'DER_deltaeta_jet_jet', 'DER_mass_jet_jet', 'DER_prodeta_jet_jet', 'DER_deltar_tau_lep', 'DER_pt_tot', 'DER_sum_pt', 'DER_pt_ratio_lep_tau', 'DER_met_phi_centrality', 'DER_lep_eta_centrality', 'PRI_tau_pt', 'PRI_tau_eta', 'PRI_tau_phi', 'PRI_lep_pt', 'PRI_lep_eta', 'PRI_lep_phi', 'PRI_met', 'PRI_met_phi', 'PRI_met_sumet', 'PRI_jet_num', 'PRI_jet_leading_pt', 'PRI_jet_leading_eta', 'PRI_jet_leading_phi', 'PRI_jet_subleading_pt', 'PRI_jet_subleading_eta', 'PRI_jet_subleading_phi', 'PRI_jet_all_pt', 'Weight', 'Label']\n",
      "(250000, 33)\n",
      "Bye World .. \n"
     ]
    }
   ],
   "source": [
    "import numpy as np\n",
    "import pandas as pd\n",
    "import matplotlib.pyplot as plt\n",
    "from IPython.display import display, HTML\n",
    "\n",
    "\n",
    "TRAIN_CSV = './data/training.csv'\n",
    "print (\"Hello World .. \")\n",
    "\n",
    "td = pd.read_csv(TRAIN_CSV)\n",
    "\n",
    "print (list(td))\n",
    "print (td.shape)\n",
    "\n",
    "print (\"Bye World .. \")"
   ]
  },
  {
   "cell_type": "code",
   "execution_count": 81,
   "metadata": {},
   "outputs": [
    {
     "name": "stdout",
     "output_type": "stream",
     "text": [
      "count    250000.000000\n",
      "mean       -708.985189\n",
      "std         453.596721\n",
      "min        -999.000000\n",
      "25%        -999.000000\n",
      "50%        -999.000000\n",
      "75%           0.000000\n",
      "max           1.000000\n",
      "Name: DER_lep_eta_centrality, dtype: float64\n",
      "-708.985189132\n",
      "453.595814008\n"
     ]
    }
   ],
   "source": [
    "td.shape[1]\n",
    "print (td.DER_lep_eta_centrality.describe())\n",
    "print (np.mean(td.DER_lep_eta_centrality))\n",
    "print (np.std(td.DER_lep_eta_centrality))\n",
    "#td.DER_lep_eta_centrality.std"
   ]
  },
  {
   "cell_type": "code",
   "execution_count": 83,
   "metadata": {},
   "outputs": [
    {
     "name": "stdout",
     "output_type": "stream",
     "text": [
      "1\n",
      "DER_mass_MMC\n"
     ]
    },
    {
     "data": {
      "text/plain": [
       "<matplotlib.figure.Figure at 0xc981a2f2b0>"
      ]
     },
     "metadata": {},
     "output_type": "display_data"
    },
    {
     "data": {
      "image/png": "[encoded data removed]",
      "text/plain": [
       "<matplotlib.figure.Figure at 0xc9814b2160>"
      ]
     },
     "metadata": {},
     "output_type": "display_data"
    },
    {
     "name": "stdout",
     "output_type": "stream",
     "text": [
      "2\n",
      "DER_mass_transverse_met_lep\n"
     ]
    },
    {
     "data": {
      "image/png": "[encoded data removed]",
      "text/plain": [
       "<matplotlib.figure.Figure at 0xc9815529b0>"
      ]
     },
     "metadata": {},
     "output_type": "display_data"
    }
   ],
   "source": [
    "\"\"\"\n",
    "Data Columns\n",
    "['EventId', 'DER_mass_MMC', 'DER_mass_transverse_met_lep', 'DER_mass_vis', 'DER_pt_h', 'DER_deltaeta_jet_jet', 'DER_mass_jet_jet',\n",
    " 'DER_prodeta_jet_jet', 'DER_deltar_tau_lep', 'DER_pt_tot', 'DER_sum_pt', 'DER_pt_ratio_lep_tau', 'DER_met_phi_centrality',\n",
    " 'DER_lep_eta_centrality', 'PRI_tau_pt', 'PRI_tau_eta', 'PRI_tau_phi', 'PRI_lep_pt', 'PRI_lep_eta', 'PRI_lep_phi',\n",
    " 'PRI_met', 'PRI_met_phi', 'PRI_met_sumet', 'PRI_jet_num', 'PRI_jet_leading_pt', 'PRI_jet_leading_eta', 'PRI_jet_leading_phi',\n",
    " 'PRI_jet_subleading_pt', 'PRI_jet_subleading_eta', 'PRI_jet_subleading_phi', 'PRI_jet_all_pt', 'Weight', 'Label']\n",
    " \"\"\"\n",
    "\n",
    "num_features = td.shape[1]\n",
    "num_features = 5\n",
    "#plt.figure()\n",
    "#plt.subplots (num_features-2, 2)\n",
    "\n",
    "for f in np.arange(1,num_features-2):\n",
    "    #plt.subplot (num_features-2,2,f*2-1)\n",
    "    plt.figure()\n",
    "    plt.subplot(1,2,1)\n",
    "    \n",
    "    feature = list(td)[f]\n",
    "    print (f)\n",
    "    print (feature)\n",
    "    mean = np.mean(td[feature])\n",
    "    std = np.std(td[feature])\n",
    "    plt.hist([td[feature][td.Label == 's'], td[feature][td.Label == 'b']], \\\n",
    "                 bins=100, alpha=0.5, stacked=True, label=feature);\n",
    "    plt.legend(loc='upper right')\n",
    "    \n",
    "    plt.subplot(1,2,2)\n",
    "    plt.hist([(td[feature][td.Label == 's'] - mean)/std, (td[feature][td.Label == 'b'] - mean)/std], \\\n",
    "                 bins=100, alpha=0.5, stacked=True, label=feature);\n",
    "    plt.legend(loc='upper right')\n",
    "    \n",
    "    \n",
    "    plt.show()\n",
    "#plt.show();"
   ]
  },
  {
   "cell_type": "code",
   "execution_count": 23,
   "metadata": {},
   "outputs": [
    {
     "data": {
      "image/png": "[encoded data removed]",
      "text/plain": [
       "<matplotlib.figure.Figure at 0xc9811a52e8>"
      ]
     },
     "metadata": {},
     "output_type": "display_data"
    }
   ],
   "source": [
    "plt.cla();\n",
    "plt.hist(td.DER_mass_MMC, bins=100)\n",
    "plt.show();"
   ]
  },
  {
   "cell_type": "code",
   "execution_count": null,
   "metadata": {},
   "outputs": [],
   "source": []
  }
 ],
 "metadata": {
  "kernelspec": {
   "display_name": "Python 3",
   "language": "python",
   "name": "python3"
  },
  "language_info": {
   "codemirror_mode": {
    "name": "ipython",
    "version": 3
   },
   "file_extension": ".py",
   "mimetype": "text/x-python",
   "name": "python",
   "nbconvert_exporter": "python",
   "pygments_lexer": "ipython3",
   "version": "3.5.4"
  }
 },
 "nbformat": 4,
 "nbformat_minor": 2
}
